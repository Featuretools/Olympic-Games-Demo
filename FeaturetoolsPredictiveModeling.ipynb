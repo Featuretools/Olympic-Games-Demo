{
 "cells": [
  {
   "cell_type": "markdown",
   "metadata": {},
   "source": [
    "# Using Featuretools to analyze medals won at the Olympic Games\n",
    "\n",
    "In this notebook, we will examine a dataset containing all the medals won by each athlete at each Summer Olympic Games. Our goal will be to see what quantities are important in predicting the future number of medals won.\n",
    "\n",
    "To do this, we will build a machine-learning-based predictive model that is trained on historical data. We'll build this model using high-level transformations of the data &mdash; called features &mdash; that are automatically generated from Featuretools. [Featuretools](https://featuretools.com) is a Python library for automated feature engineering.\n",
    "\n",
    "This notebook will serve as an introduction to Featuretools, but does not explain each function call in depth. See the [documentation](https://docs.featuretools.com) for a more thorough usage guide."
   ]
  },
  {
   "cell_type": "code",
   "execution_count": 33,
   "metadata": {},
   "outputs": [
    {
     "name": "stdout",
     "output_type": "stream",
     "text": [
      "The autoreload extension is already loaded. To reload it, use:\n",
      "  %reload_ext autoreload\n"
     ]
    }
   ],
   "source": [
    "import pandas as pd\n",
    "from sklearn.preprocessing import Imputer, RobustScaler\n",
    "from sklearn.pipeline import Pipeline\n",
    "from sklearn.ensemble import RandomForestClassifier, RandomForestRegressor\n",
    "from sklearn.metrics import confusion_matrix\n",
    "import featuretools as ft\n",
    "from featuretools import primitives as prims\n",
    "from featuretools.selection import remove_low_information_features\n",
    "import os\n",
    "from ml import (bin_labels,\n",
    "                TimeSeriesSplitByDate,\n",
    "                fit_and_score)\n",
    "from load_entityset import load_entityset\n",
    "from utils import (build_seed_features,\n",
    "                   get_feature_importances,\n",
    "                   plot_confusion_matrix,\n",
    "                   remove_low_information_features)\n",
    "from IPython.display import display\n",
    "%load_ext autoreload\n",
    "%autoreload 2\n",
    "%matplotlib inline"
   ]
  },
  {
   "cell_type": "markdown",
   "metadata": {},
   "source": [
    "# Step 1: Load in data\n",
    "\n",
    "`EntitySet` is the in-memory data structure Featuretools uses to build and calculate features. It consists of:\n",
    " * a dictionary of [Pandas DataFrames](https://pandas.pydata.org/pandas-docs/stable/dsintro.html),\n",
    " * the associated metadata on how they are linked and,\n",
    " * what semantic types they contain.\n"
   ]
  },
  {
   "cell_type": "code",
   "execution_count": 2,
   "metadata": {},
   "outputs": [
    {
     "name": "stderr",
     "output_type": "stream",
     "text": [
      "load_entityset.py:173: FutureWarning: \n",
      "Passing list-likes to .loc or [] with any missing label will raise\n",
      "KeyError in the future, you can use .reindex() as an alternative.\n",
      "\n",
      "See the documentation here:\n",
      "http://pandas.pydata.org/pandas-docs/stable/indexing.html#deprecate-loc-reindex-listlike\n",
      "  columns_to_pull_from_similar]\n",
      "/usr/local/lib/python2.7/site-packages/pandas/core/indexing.py:1367: FutureWarning: \n",
      "Passing list-likes to .loc or [] with any missing label will raise\n",
      "KeyError in the future, you can use .reindex() as an alternative.\n",
      "\n",
      "See the documentation here:\n",
      "http://pandas.pydata.org/pandas-docs/stable/indexing.html#deprecate-loc-reindex-listlike\n",
      "  return self._getitem_tuple(key)\n"
     ]
    },
    {
     "data": {
      "text/plain": [
       "Entityset: Olympic Games\n",
       "  Entities:\n",
       "    disciplines (shape = [67, 3])\n",
       "    countries (shape = [220, 8])\n",
       "    olympic_games (shape = [27, 3])\n",
       "    medals_won (shape = [11532, 6])\n",
       "    sports (shape = [43, 2])\n",
       "    ...And 3 more\n",
       "  Relationships:\n",
       "    medaling_athletes.Athlete -> athletes.Athlete\n",
       "    medals_won.Country Olympic ID -> countries_at_olympic_games.Country Olympic ID\n",
       "    countries_at_olympic_games.Olympic Games ID -> olympic_games.Olympic Games ID\n",
       "    medals_won.Discipline -> disciplines.Discipline\n",
       "    disciplines.Sport -> sports.Sport\n",
       "    ...and 2 more"
      ]
     },
     "execution_count": 2,
     "metadata": {},
     "output_type": "execute_result"
    }
   ],
   "source": [
    "dir_path = os.getcwd()\n",
    "ROOT_DATA_FOLDER = os.path.join(dir_path,\"data/olympic_games_data\")\n",
    "es = load_entityset(data_dir=ROOT_DATA_FOLDER)\n",
    "es"
   ]
  },
  {
   "cell_type": "markdown",
   "metadata": {},
   "source": [
    "## Load labels and cutoff times\n",
    "\n",
    "Machine learning (in its [supervised](http://scikit-learn.org/stable/supervised_learning.html) flavor) is all about predicting a set of labels, given a set of training data. This is canonically represented by a *feature matrix*, whose rows are each numeric vectors of fixed length. Each row is associated with a single value, called a label. The machine learning algorithm is tasked with building a model that is good at predicting the label given the row vector.\n",
    "\n",
    "In *predictive modeling*, the labels represent future\n",
    "quantities. This makes the time associated with the\n",
    "label crucial. If we're trying to train our model to a\n",
    "predict a label that happened last Tuesday, we shouldn't be\n",
    "using the values recorded today. We record that information in a *cutoff_times* dataframe. For more information on cutoff times, see the [documentation](https://docs.featuretools.com/automated_feature_engineering/handling_time.html).\n",
    "\n",
    "Our goal is to predict the number of medals won by each country in each subsequent Olympic Games. Our labels will be uniquely defined by a particular country and date of particular Olympic Games in which it competed."
   ]
  },
  {
   "cell_type": "code",
   "execution_count": 3,
   "metadata": {},
   "outputs": [
    {
     "data": {
      "text/html": [
       "<div>\n",
       "<style scoped>\n",
       "    .dataframe tbody tr th:only-of-type {\n",
       "        vertical-align: middle;\n",
       "    }\n",
       "\n",
       "    .dataframe tbody tr th {\n",
       "        vertical-align: top;\n",
       "    }\n",
       "\n",
       "    .dataframe thead th {\n",
       "        text-align: right;\n",
       "    }\n",
       "</style>\n",
       "<table border=\"1\" class=\"dataframe\">\n",
       "  <thead>\n",
       "    <tr style=\"text-align: right;\">\n",
       "      <th></th>\n",
       "      <th>Number of Medals</th>\n",
       "      <th>Olympics Date</th>\n",
       "      <th>Country</th>\n",
       "    </tr>\n",
       "  </thead>\n",
       "  <tbody>\n",
       "    <tr>\n",
       "      <th>8</th>\n",
       "      <td>2</td>\n",
       "      <td>1896-06-29 00:00:00</td>\n",
       "      <td>AUS</td>\n",
       "    </tr>\n",
       "    <tr>\n",
       "      <th>9</th>\n",
       "      <td>5</td>\n",
       "      <td>1896-06-29 00:00:00</td>\n",
       "      <td>AUT</td>\n",
       "    </tr>\n",
       "    <tr>\n",
       "      <th>5</th>\n",
       "      <td>6</td>\n",
       "      <td>1896-06-29 00:00:00</td>\n",
       "      <td>DEN</td>\n",
       "    </tr>\n",
       "    <tr>\n",
       "      <th>10</th>\n",
       "      <td>11</td>\n",
       "      <td>1896-06-29 00:00:00</td>\n",
       "      <td>FRA</td>\n",
       "    </tr>\n",
       "    <tr>\n",
       "      <th>4</th>\n",
       "      <td>7</td>\n",
       "      <td>1896-06-29 00:00:00</td>\n",
       "      <td>GBR</td>\n",
       "    </tr>\n",
       "  </tbody>\n",
       "</table>\n",
       "</div>"
      ],
      "text/plain": [
       "    Number of Medals       Olympics Date Country\n",
       "8                  2 1896-06-29 00:00:00     AUS\n",
       "9                  5 1896-06-29 00:00:00     AUT\n",
       "5                  6 1896-06-29 00:00:00     DEN\n",
       "10                11 1896-06-29 00:00:00     FRA\n",
       "4                  7 1896-06-29 00:00:00     GBR"
      ]
     },
     "execution_count": 3,
     "metadata": {},
     "output_type": "execute_result"
    }
   ],
   "source": [
    "label_file = os.path.join(ROOT_DATA_FOLDER, \"num_medals_by_country_labels.csv\")\n",
    "label_df = pd.read_csv(label_file,\n",
    "                       parse_dates=['Olympics Date'],\n",
    "                       encoding='utf-8',\n",
    "                       usecols=['Number of Medals', 'Olympics Date', 'Country'])\n",
    "# Sort by the date of the Olympics, and by the country (to maintain a consistent ordering)\n",
    "label_df.sort_values(['Olympics Date', 'Country'], inplace=True)\n",
    "\n",
    "# Just want the Country and time to compute features (we're removing the label column here)\n",
    "cutoff_times = label_df[['Country', 'Olympics Date']]\n",
    "# Code is the index of the \"countries\" entity in the entityset (short for Country Code)\n",
    "cutoff_times = cutoff_times.rename(columns={'Country': 'Code'})\n",
    "\n",
    "label_df.head()"
   ]
  },
  {
   "cell_type": "markdown",
   "metadata": {},
   "source": [
    "# Step 2: Generate Features Using Deep Feature Synthesis\n",
    "\n",
    "Featuretools automatically extracts high-level, interpretable features from EntitySets. This means we can exhaustively create many features, and use these to train our machine learning predictive model.\n",
    "We can specify the particular primitives we want Featuretools to use to construct features. Featuretools will walk through our EntitySet and apply these primitives recursively using the [Deep Feature Synthesis](https://docs.featuretools.com/automated_feature_engineering/afe.html) algorithm. \n",
    "\n",
    "These primitives are basic functions that take a particular data type as input (such as a Numeric or Categorical), and output a single value per *instance* (row) of an entity. Aggregation primitives take 2 entities, where each row in the *parent* entity is connected to many rows in the *child*, and apply a function to all the rows in the *child* connected to a single *parent* row. Existing primitives are defined in more detail [here](https://docs.featuretools.com/automated_feature_engineering/primitives.html).\n",
    "\n",
    "A note on the parameter settings:\n",
    "  * `target_entity` defines the entity containing unique rows (called *instances*) for each training example. \n",
    "  * `trans_primitives` is a list of *transform* primitive classes.\n",
    "  * `agg_primitives` is a list of *aggregation* primitive classes.\n",
    "  * `max_depth` defines how *deep* we build features on top of one another ([explanation](https://docs.featuretools.com/automated_feature_engineering/afe.html#creating-deep-features))\n",
    "  * `cutoff_times` is a Pandas DataFrame with a column for defining each instance we want to compute features for, and its associated cutoff time.\n",
    "  * `seed_features` are specific manually defined features that DFS can build from"
   ]
  },
  {
   "cell_type": "code",
   "execution_count": 4,
   "metadata": {
    "collapsed": true
   },
   "outputs": [],
   "source": [
    "agg_primitives = [\n",
    "    prims.Sum, prims.Std, prims.Max, prims.Min, prims.Mean, prims.Count,\n",
    "    prims.PercentTrue, prims.NUnique, prims.Mode, prims.Trend, prims.Skew\n",
    "]\n",
    "\n",
    "num_medals_each_olympics, mean_num_medals = build_seed_features(es)"
   ]
  },
  {
   "cell_type": "code",
   "execution_count": 5,
   "metadata": {},
   "outputs": [
    {
     "name": "stdout",
     "output_type": "stream",
     "text": [
      "Building features: 1808it [00:02, 684.95it/s] \n",
      "Progress: 100%|██████████| 27/27 [21:07<00:00, 88.92s/cutoff time]\n"
     ]
    },
    {
     "data": {
      "text/plain": [
       "1448"
      ]
     },
     "execution_count": 5,
     "metadata": {},
     "output_type": "execute_result"
    }
   ],
   "source": [
    "feature_matrix, features = ft.dfs(\n",
    "    entityset=es,\n",
    "    target_entity=\"countries\",\n",
    "    trans_primitives=[],\n",
    "    agg_primitives=agg_primitives,\n",
    "    max_depth=4,\n",
    "    seed_features=num_medals_each_olympics + [mean_num_medals],\n",
    "    cutoff_time=cutoff_times,\n",
    "    verbose=True)\n",
    "print \"{} features generated\".format(len(features))"
   ]
  },
  {
   "cell_type": "markdown",
   "metadata": {},
   "source": [
    "## Data Manipulation \n",
    "\n",
    "Machine learning algorithms require all numeric values as input, but Featuretools by default produces some categorical values. One way to transform these values into numbers is to create several binary features that encode whether the feature is equal to each particular category (by default capped at the top 10 most common categories). To learn more check out this [docs page](https://docs.featuretools.com/guides/tuning_dfs.html#encoding-categorical-features)."
   ]
  },
  {
   "cell_type": "code",
   "execution_count": 6,
   "metadata": {
    "collapsed": true
   },
   "outputs": [],
   "source": [
    "feature_matrix_encoded, features_encoded = ft.encode_features(feature_matrix, features)"
   ]
  },
  {
   "cell_type": "markdown",
   "metadata": {},
   "source": [
    "We can also remove feature which don't provide very much information towards solving the problem at hand."
   ]
  },
  {
   "cell_type": "code",
   "execution_count": 7,
   "metadata": {},
   "outputs": [
    {
     "name": "stdout",
     "output_type": "stream",
     "text": [
      "1440 features selected\n"
     ]
    }
   ],
   "source": [
    "feature_matrix, features = remove_low_information_features(feature_matrix, features)\n",
    "print \"%d features selected\" % len(features)"
   ]
  },
  {
   "cell_type": "markdown",
   "metadata": {},
   "source": [
    "## Binarize and bin labels\n",
    "\n",
    "We'll actually create 3 slightly different models:\n",
    "\n",
    "  1. **Regression** Predicting the actual number of medals per country\n",
    "  2. **Binary Classification** Predicting whether the number of medals is greater than 10.\n",
    "  3. **Binned Classification** Predicting which bin the medals falls into (i.e. between 0 and 2, 2 and 6, 6 and 10, 10 and 50, or greater than 50)."
   ]
  },
  {
   "cell_type": "code",
   "execution_count": 8,
   "metadata": {
    "collapsed": true
   },
   "outputs": [],
   "source": [
    "dates = label_df['Olympics Date']\n",
    "labels = label_df['Number of Medals']\n",
    "binned_labels, bins = bin_labels(labels, [2, 6, 10, 50])\n",
    "binary_labels = (labels >= 10).astype(int)"
   ]
  },
  {
   "cell_type": "code",
   "execution_count": 9,
   "metadata": {},
   "outputs": [
    {
     "data": {
      "text/plain": [
       "[2.0,6.0)      366\n",
       "[10.0,50.0)    264\n",
       "<2.0           246\n",
       "[6.0,10.0)     141\n",
       ">=50.0          48\n",
       "dtype: int64"
      ]
     },
     "execution_count": 9,
     "metadata": {},
     "output_type": "execute_result"
    }
   ],
   "source": [
    "binned_labels.value_counts()"
   ]
  },
  {
   "cell_type": "code",
   "execution_count": 10,
   "metadata": {},
   "outputs": [
    {
     "data": {
      "text/plain": [
       "0    753\n",
       "1    312\n",
       "Name: Number of Medals, dtype: int64"
      ]
     },
     "execution_count": 10,
     "metadata": {},
     "output_type": "execute_result"
    }
   ],
   "source": [
    "binary_labels.value_counts()"
   ]
  },
  {
   "cell_type": "markdown",
   "metadata": {},
   "source": [
    "# Step 3: Build machine learning models and generate scores"
   ]
  },
  {
   "cell_type": "markdown",
   "metadata": {},
   "source": [
    "## Create scikit-learn estimators\n",
    "\n",
    "We'll use stock machine learning algorithms from scikit-learn, as well as an imputer that replaces missing values with the mean over that feature, and a scaler that makes sure each feature's values vary from 0 to 1. The `RobustScaler` class is more sensitive to outliers than the `StandardScaler`."
   ]
  },
  {
   "cell_type": "code",
   "execution_count": 11,
   "metadata": {
    "collapsed": true
   },
   "outputs": [],
   "source": [
    "pipeline_preprocessing = [(\"imputer\",\n",
    "                           Imputer(missing_values='NaN', strategy=\"mean\", axis=0)),\n",
    "                          (\"scaler\", RobustScaler(with_centering=True))]\n",
    "rf_reg = RandomForestRegressor(n_estimators=1000, n_jobs=-1)\n",
    "rf_clf = RandomForestClassifier(n_estimators=1000, n_jobs=-1)"
   ]
  },
  {
   "cell_type": "markdown",
   "metadata": {},
   "source": [
    "## Time-based cross-validation\n",
    "\n",
    "The way we'll do cross-validation is to separate training sets for each Olympics since 1960, using all historical data in the past for each."
   ]
  },
  {
   "cell_type": "code",
   "execution_count": 12,
   "metadata": {
    "collapsed": true
   },
   "outputs": [],
   "source": [
    "splitter = TimeSeriesSplitByDate(dates=dates, earliest_date=pd.Timestamp('1/1/1960'))"
   ]
  },
  {
   "cell_type": "code",
   "execution_count": 13,
   "metadata": {
    "collapsed": true
   },
   "outputs": [],
   "source": [
    "X = feature_matrix_encoded.values\n",
    "y = labels.values\n",
    "y_binary = binary_labels.values\n",
    "y_binned = binned_labels.values"
   ]
  },
  {
   "cell_type": "markdown",
   "metadata": {},
   "source": [
    "## Modeling\n",
    "\n",
    "The `fit_and_score` function takes in a feature matrix, labels, splitter, and the machine learning pipeline, builds models for each split, and scores each one using various metrics."
   ]
  },
  {
   "cell_type": "code",
   "execution_count": 14,
   "metadata": {
    "collapsed": true
   },
   "outputs": [],
   "source": [
    "def show_score(scores, score_name):\n",
    "    print \"  %s mean score:  %.2f +/- %.2f\" % (score_name, scores[score_name].mean(), scores[score_name].std())"
   ]
  },
  {
   "cell_type": "code",
   "execution_count": 15,
   "metadata": {},
   "outputs": [
    {
     "name": "stdout",
     "output_type": "stream",
     "text": [
      "Regression model\n",
      "  r2 mean score:  0.76 +/- 0.14\n"
     ]
    }
   ],
   "source": [
    "reg_pipeline = Pipeline(pipeline_preprocessing + [(\"rf_reg\", rf_reg)])\n",
    "scores = fit_and_score(X, y, splitter, reg_pipeline, _type='regression')\n",
    "print \"Regression model\"\n",
    "show_score(scores, 'r2')"
   ]
  },
  {
   "cell_type": "code",
   "execution_count": 16,
   "metadata": {},
   "outputs": [
    {
     "name": "stdout",
     "output_type": "stream",
     "text": [
      "Classification model\n",
      "  roc_auc mean score:  0.95 +/- 0.03\n",
      "  f1 mean score:  0.82 +/- 0.08\n",
      "  f1_micro mean score:  0.60 +/- 0.07\n"
     ]
    }
   ],
   "source": [
    "pipeline = Pipeline(pipeline_preprocessing + [('rf_clf', rf_clf)])\n",
    "binary_scores = fit_and_score(X, y_binary, splitter, pipeline, _type='classification')\n",
    "binned_scores = fit_and_score(X, y_binned, splitter, pipeline, _type='classification')\n",
    "print \"Classification model\"\n",
    "show_score(binary_scores,'roc_auc')\n",
    "show_score(binary_scores,'f1')\n",
    "show_score(binned_scores,'f1_micro')"
   ]
  },
  {
   "cell_type": "markdown",
   "metadata": {},
   "source": [
    "## Comparing scores across years\n",
    "\n",
    "We'll plot the scores over time for each type of problem, and then look at a few confusion matrices for particular years."
   ]
  },
  {
   "cell_type": "markdown",
   "metadata": {},
   "source": [
    "### Plotting the regression scores"
   ]
  },
  {
   "cell_type": "code",
   "execution_count": 17,
   "metadata": {},
   "outputs": [
    {
     "data": {
      "text/plain": [
       "<matplotlib.axes._subplots.AxesSubplot at 0x11181b590>"
      ]
     },
     "execution_count": 17,
     "metadata": {},
     "output_type": "execute_result"
    },
    {
     "data": {
      "image/png": "[encoded data removed]",
      "text/plain": [
       "<matplotlib.figure.Figure at 0x11244ed50>"
      ]
     },
     "metadata": {},
     "output_type": "display_data"
    }
   ],
   "source": [
    "scores.set_index('Olympics Year')['r2'].plot(title='R2 vs. Olympics Year')"
   ]
  },
  {
   "cell_type": "markdown",
   "metadata": {},
   "source": [
    "### Plotting the binned scores\n"
   ]
  },
  {
   "cell_type": "code",
   "execution_count": 18,
   "metadata": {},
   "outputs": [
    {
     "data": {
      "text/plain": [
       "<matplotlib.axes._subplots.AxesSubplot at 0x112fe9410>"
      ]
     },
     "execution_count": 18,
     "metadata": {},
     "output_type": "execute_result"
    },
    {
     "data": {
      "image/png": "[encoded data removed]",
      "text/plain": [
       "<matplotlib.figure.Figure at 0x112f0b410>"
      ]
     },
     "metadata": {},
     "output_type": "display_data"
    }
   ],
   "source": [
    "binned_scores.set_index('Olympics Year')['f1_micro'].plot(title='F1 (Micro-Averaged) vs. Olympics Year')"
   ]
  },
  {
   "cell_type": "markdown",
   "metadata": {},
   "source": [
    "### Plotting the binary scores"
   ]
  },
  {
   "cell_type": "code",
   "execution_count": 19,
   "metadata": {},
   "outputs": [
    {
     "data": {
      "text/plain": [
       "<matplotlib.axes._subplots.AxesSubplot at 0x1112e8850>"
      ]
     },
     "execution_count": 19,
     "metadata": {},
     "output_type": "execute_result"
    },
    {
     "data": {
      "image/png": "[encoded data removed]",
      "text/plain": [
       "<matplotlib.figure.Figure at 0x114033590>"
      ]
     },
     "metadata": {},
     "output_type": "display_data"
    }
   ],
   "source": [
    "binary_scores.set_index('Olympics Year')['f1'].plot(title='F1 vs. Olympics Year')"
   ]
  },
  {
   "cell_type": "markdown",
   "metadata": {},
   "source": [
    "Notice how the binned problem is harder in different years than the regression problem. 1984 is a terrible year for the binned predictor, while 1992 is much worse for the regression predictor. The binary score is on the whole smoother over time, but still has a major hiccup in 1984."
   ]
  },
  {
   "cell_type": "code",
   "execution_count": 20,
   "metadata": {},
   "outputs": [
    {
     "data": {
      "text/html": [
       "<div>\n",
       "<style scoped>\n",
       "    .dataframe tbody tr th:only-of-type {\n",
       "        vertical-align: middle;\n",
       "    }\n",
       "\n",
       "    .dataframe tbody tr th {\n",
       "        vertical-align: top;\n",
       "    }\n",
       "\n",
       "    .dataframe thead th {\n",
       "        text-align: right;\n",
       "    }\n",
       "</style>\n",
       "<table border=\"1\" class=\"dataframe\">\n",
       "  <thead>\n",
       "    <tr style=\"text-align: right;\">\n",
       "      <th></th>\n",
       "      <th>f1</th>\n",
       "      <th>roc_auc</th>\n",
       "      <th>Olympics Year</th>\n",
       "    </tr>\n",
       "  </thead>\n",
       "  <tbody>\n",
       "    <tr>\n",
       "      <th>0</th>\n",
       "      <td>0.800000</td>\n",
       "      <td>0.939103</td>\n",
       "      <td>1964-06-29</td>\n",
       "    </tr>\n",
       "    <tr>\n",
       "      <th>1</th>\n",
       "      <td>0.818182</td>\n",
       "      <td>0.882812</td>\n",
       "      <td>1968-06-29</td>\n",
       "    </tr>\n",
       "    <tr>\n",
       "      <th>2</th>\n",
       "      <td>0.880000</td>\n",
       "      <td>0.976427</td>\n",
       "      <td>1972-06-29</td>\n",
       "    </tr>\n",
       "    <tr>\n",
       "      <th>3</th>\n",
       "      <td>0.818182</td>\n",
       "      <td>0.966667</td>\n",
       "      <td>1976-06-29</td>\n",
       "    </tr>\n",
       "    <tr>\n",
       "      <th>4</th>\n",
       "      <td>0.750000</td>\n",
       "      <td>0.941667</td>\n",
       "      <td>1980-06-29</td>\n",
       "    </tr>\n",
       "    <tr>\n",
       "      <th>5</th>\n",
       "      <td>0.600000</td>\n",
       "      <td>0.960459</td>\n",
       "      <td>1984-06-29</td>\n",
       "    </tr>\n",
       "    <tr>\n",
       "      <th>6</th>\n",
       "      <td>0.823529</td>\n",
       "      <td>0.967980</td>\n",
       "      <td>1988-06-29</td>\n",
       "    </tr>\n",
       "    <tr>\n",
       "      <th>7</th>\n",
       "      <td>0.838710</td>\n",
       "      <td>0.931327</td>\n",
       "      <td>1992-06-29</td>\n",
       "    </tr>\n",
       "    <tr>\n",
       "      <th>8</th>\n",
       "      <td>0.857143</td>\n",
       "      <td>0.928034</td>\n",
       "      <td>1996-06-29</td>\n",
       "    </tr>\n",
       "    <tr>\n",
       "      <th>9</th>\n",
       "      <td>0.833333</td>\n",
       "      <td>0.940476</td>\n",
       "      <td>2000-06-29</td>\n",
       "    </tr>\n",
       "    <tr>\n",
       "      <th>10</th>\n",
       "      <td>0.914286</td>\n",
       "      <td>0.981111</td>\n",
       "      <td>2004-06-29</td>\n",
       "    </tr>\n",
       "    <tr>\n",
       "      <th>11</th>\n",
       "      <td>0.800000</td>\n",
       "      <td>0.968750</td>\n",
       "      <td>2008-06-29</td>\n",
       "    </tr>\n",
       "    <tr>\n",
       "      <th>12</th>\n",
       "      <td>0.882353</td>\n",
       "      <td>0.958629</td>\n",
       "      <td>2012-06-29</td>\n",
       "    </tr>\n",
       "  </tbody>\n",
       "</table>\n",
       "</div>"
      ],
      "text/plain": [
       "          f1   roc_auc Olympics Year\n",
       "0   0.800000  0.939103    1964-06-29\n",
       "1   0.818182  0.882812    1968-06-29\n",
       "2   0.880000  0.976427    1972-06-29\n",
       "3   0.818182  0.966667    1976-06-29\n",
       "4   0.750000  0.941667    1980-06-29\n",
       "5   0.600000  0.960459    1984-06-29\n",
       "6   0.823529  0.967980    1988-06-29\n",
       "7   0.838710  0.931327    1992-06-29\n",
       "8   0.857143  0.928034    1996-06-29\n",
       "9   0.833333  0.940476    2000-06-29\n",
       "10  0.914286  0.981111    2004-06-29\n",
       "11  0.800000  0.968750    2008-06-29\n",
       "12  0.882353  0.958629    2012-06-29"
      ]
     },
     "execution_count": 20,
     "metadata": {},
     "output_type": "execute_result"
    }
   ],
   "source": [
    "binary_scores"
   ]
  },
  {
   "cell_type": "markdown",
   "metadata": {},
   "source": [
    "## Confusion Matrices\n",
    "\n",
    "The confusion matrix is a good way to quickly see well a model is predicting binary outcomes. For an intro to what these are, see Scikit-Learn's [User Guide](http://scikit-learn.org/stable/modules/model_evaluation.html#confusion-matrix).\n",
    "Let's plot the confusion matrix for 1984 (a hard-to-predict year) and 2004 (an easy-to-predict year) using this example from Scikit-Learn [here](http://scikit-learn.org/stable/auto_examples/model_selection/plot_confusion_matrix.html#sphx-glr-auto-examples-model-selection-plot-confusion-matrix-py)."
   ]
  },
  {
   "cell_type": "code",
   "execution_count": 21,
   "metadata": {},
   "outputs": [
    {
     "data": {
      "image/png": "[encoded data removed]",
      "text/plain": [
       "<matplotlib.figure.Figure at 0x1133aced0>"
      ]
     },
     "metadata": {},
     "output_type": "display_data"
    }
   ],
   "source": [
    "# 1984 = 5th split\n",
    "split, year = 5, '1984'\n",
    "train, test = splitter.split(X, y_binary)[split]\n",
    "pipeline.fit(X[train], y_binary[train])\n",
    "y_pred = pipeline.predict(X[test])\n",
    "cm = confusion_matrix(y_binary[test], y_pred)\n",
    "plot_confusion_matrix(cm, ['Won < 10 Medals', 'Won >= 10 Medals'], title=year)"
   ]
  },
  {
   "cell_type": "code",
   "execution_count": 22,
   "metadata": {},
   "outputs": [
    {
     "data": {
      "image/png": "[encoded data removed]",
      "text/plain": [
       "<matplotlib.figure.Figure at 0x113c7ee50>"
      ]
     },
     "metadata": {},
     "output_type": "display_data"
    }
   ],
   "source": [
    "# 2004 = 10th split\n",
    "split, year = 10, '2004'\n",
    "train, test = splitter.split(X, y_binary)[split]\n",
    "pipeline.fit(X[train], y_binary[train])\n",
    "y_pred = pipeline.predict(X[test])\n",
    "cm = confusion_matrix(y_binary[test], y_pred)\n",
    "plot_confusion_matrix(cm, ['Won < 10 Medals', 'Won >= 10 Medals'], title=year)"
   ]
  },
  {
   "cell_type": "markdown",
   "metadata": {},
   "source": [
    "In 1984, we underestimated how many medals 8 countries scored, while in 2004, we underestimated only 2 countres and overestimated 2. As we'll see later, this is probably due to the boycott in 1984 by Soviet Bloc countries, leading to higher medals scored by the democratic nations like the USA."
   ]
  },
  {
   "cell_type": "markdown",
   "metadata": {},
   "source": [
    "## Comparison to baseline\n",
    "\n",
    "We do significantly better on all problem types and all metrics than our non-machine learning baseline, which only achieves 0.79 AUC compared to the 0.94 we get here."
   ]
  },
  {
   "cell_type": "markdown",
   "metadata": {},
   "source": [
    "## How to improve?\n",
    "\n",
    "For particular years and countries this is a very hard problem for which additional data is needed to make better predictions. We will examine this issue in a future notebook. The problem arises from the fact that many outside factors contribute to weird outcomes at the Olympics which don't exist in our dataset. Boycotts and steroid scandals are a key example. Using only this current dataset detailing each medal that was won, there is no way for us to know which countries refrained from competing or which were disqualified after the fact.\n",
    "\n",
    "However, our interpretable features now provide us with a way to examine which hidden factors are predictive of the outcome."
   ]
  },
  {
   "cell_type": "markdown",
   "metadata": {},
   "source": [
    "# Step 4: Refinement\n",
    "\n",
    "This utility function grabs the Scikit-Learn Random Forest's built in feature importances, sorts them, and groups them by time split. These refer to how much weight the algorithm placed on each feature in order to predict the labels. Using lots of estimators in the Random Forest allows it to distinguish between the quality of different features.\n",
    "\n",
    "We'll print out the top 10 highest weighted features for each Olympics since 1960."
   ]
  },
  {
   "cell_type": "code",
   "execution_count": 23,
   "metadata": {
    "collapsed": true
   },
   "outputs": [],
   "source": [
    "rf_clf = RandomForestClassifier(n_estimators=1000, n_jobs=-1)\n",
    "pipeline = Pipeline(pipeline_preprocessing + [('rf_clf', rf_clf)])\n",
    "\n",
    "feature_imps_over_time = get_feature_importances(pipeline,\n",
    "                                                 feature_matrix_encoded,\n",
    "                                                 binary_labels,\n",
    "                                                 splitter,\n",
    "                                                 n=400)"
   ]
  },
  {
   "cell_type": "code",
   "execution_count": 24,
   "metadata": {},
   "outputs": [
    {
     "name": "stdout",
     "output_type": "stream",
     "text": [
      "Test year: 1964\n"
     ]
    },
    {
     "data": {
      "text/html": [
       "<div>\n",
       "<style scoped>\n",
       "    .dataframe tbody tr th:only-of-type {\n",
       "        vertical-align: middle;\n",
       "    }\n",
       "\n",
       "    .dataframe tbody tr th {\n",
       "        vertical-align: top;\n",
       "    }\n",
       "\n",
       "    .dataframe thead th {\n",
       "        text-align: right;\n",
       "    }\n",
       "</style>\n",
       "<table border=\"1\" class=\"dataframe\">\n",
       "  <thead>\n",
       "    <tr style=\"text-align: right;\">\n",
       "      <th></th>\n",
       "      <th>Feature</th>\n",
       "      <th>Importance</th>\n",
       "    </tr>\n",
       "  </thead>\n",
       "  <tbody>\n",
       "    <tr>\n",
       "      <th>0</th>\n",
       "      <td>MEAN(countries_at_olympic_games.SKEW(medals_wo...</td>\n",
       "      <td>0.012329</td>\n",
       "    </tr>\n",
       "    <tr>\n",
       "      <th>1</th>\n",
       "      <td>MEAN(countries_at_olympic_games.NUM_UNIQUE(med...</td>\n",
       "      <td>0.010616</td>\n",
       "    </tr>\n",
       "    <tr>\n",
       "      <th>2</th>\n",
       "      <td>MEAN(countries_at_olympic_games.COUNT(medals_w...</td>\n",
       "      <td>0.010410</td>\n",
       "    </tr>\n",
       "    <tr>\n",
       "      <th>3</th>\n",
       "      <td>MEAN(countries_at_olympic_games.SUM(medals_won...</td>\n",
       "      <td>0.009924</td>\n",
       "    </tr>\n",
       "    <tr>\n",
       "      <th>4</th>\n",
       "      <td>MAX(countries_at_olympic_games.SKEW(medals_won...</td>\n",
       "      <td>0.009621</td>\n",
       "    </tr>\n",
       "    <tr>\n",
       "      <th>5</th>\n",
       "      <td>MAX(countries_at_olympic_games.SKEW(medals_won...</td>\n",
       "      <td>0.009244</td>\n",
       "    </tr>\n",
       "    <tr>\n",
       "      <th>6</th>\n",
       "      <td>COUNT(medals_won WHERE Medal = Gold)</td>\n",
       "      <td>0.008951</td>\n",
       "    </tr>\n",
       "    <tr>\n",
       "      <th>7</th>\n",
       "      <td>MEAN(countries_at_olympic_games.COUNT(medals_w...</td>\n",
       "      <td>0.008815</td>\n",
       "    </tr>\n",
       "    <tr>\n",
       "      <th>8</th>\n",
       "      <td>Country = United States</td>\n",
       "      <td>0.008600</td>\n",
       "    </tr>\n",
       "    <tr>\n",
       "      <th>9</th>\n",
       "      <td>Country = France</td>\n",
       "      <td>0.008501</td>\n",
       "    </tr>\n",
       "  </tbody>\n",
       "</table>\n",
       "</div>"
      ],
      "text/plain": [
       "                                             Feature  Importance\n",
       "0  MEAN(countries_at_olympic_games.SKEW(medals_wo...    0.012329\n",
       "1  MEAN(countries_at_olympic_games.NUM_UNIQUE(med...    0.010616\n",
       "2  MEAN(countries_at_olympic_games.COUNT(medals_w...    0.010410\n",
       "3  MEAN(countries_at_olympic_games.SUM(medals_won...    0.009924\n",
       "4  MAX(countries_at_olympic_games.SKEW(medals_won...    0.009621\n",
       "5  MAX(countries_at_olympic_games.SKEW(medals_won...    0.009244\n",
       "6               COUNT(medals_won WHERE Medal = Gold)    0.008951\n",
       "7  MEAN(countries_at_olympic_games.COUNT(medals_w...    0.008815\n",
       "8                            Country = United States    0.008600\n",
       "9                                   Country = France    0.008501"
      ]
     },
     "metadata": {},
     "output_type": "display_data"
    },
    {
     "name": "stdout",
     "output_type": "stream",
     "text": [
      "Test year: 2012\n"
     ]
    },
    {
     "data": {
      "text/html": [
       "<div>\n",
       "<style scoped>\n",
       "    .dataframe tbody tr th:only-of-type {\n",
       "        vertical-align: middle;\n",
       "    }\n",
       "\n",
       "    .dataframe tbody tr th {\n",
       "        vertical-align: top;\n",
       "    }\n",
       "\n",
       "    .dataframe thead th {\n",
       "        text-align: right;\n",
       "    }\n",
       "</style>\n",
       "<table border=\"1\" class=\"dataframe\">\n",
       "  <thead>\n",
       "    <tr style=\"text-align: right;\">\n",
       "      <th></th>\n",
       "      <th>Feature</th>\n",
       "      <th>Importance</th>\n",
       "    </tr>\n",
       "  </thead>\n",
       "  <tbody>\n",
       "    <tr>\n",
       "      <th>0</th>\n",
       "      <td>MEAN(countries_at_olympic_games.SKEW(medals_wo...</td>\n",
       "      <td>0.013470</td>\n",
       "    </tr>\n",
       "    <tr>\n",
       "      <th>1</th>\n",
       "      <td>MEAN(countries_at_olympic_games.NUM_UNIQUE(med...</td>\n",
       "      <td>0.012427</td>\n",
       "    </tr>\n",
       "    <tr>\n",
       "      <th>2</th>\n",
       "      <td>MAX(countries_at_olympic_games.SKEW(medals_won...</td>\n",
       "      <td>0.012418</td>\n",
       "    </tr>\n",
       "    <tr>\n",
       "      <th>3</th>\n",
       "      <td>MEAN(countries_at_olympic_games.NUM_UNIQUE(med...</td>\n",
       "      <td>0.012271</td>\n",
       "    </tr>\n",
       "    <tr>\n",
       "      <th>4</th>\n",
       "      <td>MEAN(countries_at_olympic_games.COUNT(medals_w...</td>\n",
       "      <td>0.011655</td>\n",
       "    </tr>\n",
       "    <tr>\n",
       "      <th>5</th>\n",
       "      <td>MEAN(countries_at_olympic_games.SKEW(medals_wo...</td>\n",
       "      <td>0.010516</td>\n",
       "    </tr>\n",
       "    <tr>\n",
       "      <th>6</th>\n",
       "      <td>MEAN(countries_at_olympic_games.SUM(medals_won...</td>\n",
       "      <td>0.010172</td>\n",
       "    </tr>\n",
       "    <tr>\n",
       "      <th>7</th>\n",
       "      <td>MEAN(countries_at_olympic_games.COUNT(medals_w...</td>\n",
       "      <td>0.009925</td>\n",
       "    </tr>\n",
       "    <tr>\n",
       "      <th>8</th>\n",
       "      <td>MEAN(countries_at_olympic_games.NUM_UNIQUE(med...</td>\n",
       "      <td>0.009803</td>\n",
       "    </tr>\n",
       "    <tr>\n",
       "      <th>9</th>\n",
       "      <td>MEAN(countries_at_olympic_games.COUNT(medals_w...</td>\n",
       "      <td>0.009706</td>\n",
       "    </tr>\n",
       "  </tbody>\n",
       "</table>\n",
       "</div>"
      ],
      "text/plain": [
       "                                             Feature  Importance\n",
       "0  MEAN(countries_at_olympic_games.SKEW(medals_wo...    0.013470\n",
       "1  MEAN(countries_at_olympic_games.NUM_UNIQUE(med...    0.012427\n",
       "2  MAX(countries_at_olympic_games.SKEW(medals_won...    0.012418\n",
       "3  MEAN(countries_at_olympic_games.NUM_UNIQUE(med...    0.012271\n",
       "4  MEAN(countries_at_olympic_games.COUNT(medals_w...    0.011655\n",
       "5  MEAN(countries_at_olympic_games.SKEW(medals_wo...    0.010516\n",
       "6  MEAN(countries_at_olympic_games.SUM(medals_won...    0.010172\n",
       "7  MEAN(countries_at_olympic_games.COUNT(medals_w...    0.009925\n",
       "8  MEAN(countries_at_olympic_games.NUM_UNIQUE(med...    0.009803\n",
       "9  MEAN(countries_at_olympic_games.COUNT(medals_w...    0.009706"
      ]
     },
     "metadata": {},
     "output_type": "display_data"
    }
   ],
   "source": [
    "for test_year in [1964, 2012]:\n",
    "    print \"Test year: %s\" % test_year\n",
    "    test_date = pd.Timestamp('6/29/{}'.format(test_year))\n",
    "    display(feature_imps_over_time[test_date].iloc[:10].reset_index(drop=True))"
   ]
  },
  {
   "cell_type": "markdown",
   "metadata": {},
   "source": [
    "We see the statistical Skew function is heavily represented. Skew is a useful property of statistical distributions that tells us how short and fat or long and skinny the extreme values of the set of numbers are.\n",
    "\n",
    "We will examine particular features and what they mean in more depth later on."
   ]
  },
  {
   "cell_type": "markdown",
   "metadata": {},
   "source": [
    "## Supervised Feature Selection\n",
    "\n",
    "One interesting workflow that Featuretools allows is the ability to select a subset of features from an exhaustive list based on which ones the RandomForest placed a lot of weight on.\n",
    "\n",
    "To do this, let's rerun the computation using just the top 400 features"
   ]
  },
  {
   "cell_type": "code",
   "execution_count": 25,
   "metadata": {},
   "outputs": [
    {
     "name": "stdout",
     "output_type": "stream",
     "text": [
      "  f1 mean score:  0.82 +/- 0.08\n"
     ]
    }
   ],
   "source": [
    "top400 = feature_imps_over_time[pd.Timestamp('6/29/2012')]['Feature'].tolist()\n",
    "important_feature_matrix = feature_matrix_encoded[top400]\n",
    "\n",
    "rf_clf = RandomForestClassifier(n_estimators=200, n_jobs=-1)\n",
    "pipeline = Pipeline(pipeline_preprocessing + [('rf_clf', rf_clf)])\n",
    "binary_scores = fit_and_score(important_feature_matrix.values, y_binary, splitter, pipeline, _type='classification')\n",
    "show_score(binary_scores, 'f1')"
   ]
  },
  {
   "cell_type": "code",
   "execution_count": 26,
   "metadata": {},
   "outputs": [
    {
     "data": {
      "text/html": [
       "<div>\n",
       "<style scoped>\n",
       "    .dataframe tbody tr th:only-of-type {\n",
       "        vertical-align: middle;\n",
       "    }\n",
       "\n",
       "    .dataframe tbody tr th {\n",
       "        vertical-align: top;\n",
       "    }\n",
       "\n",
       "    .dataframe thead th {\n",
       "        text-align: right;\n",
       "    }\n",
       "</style>\n",
       "<table border=\"1\" class=\"dataframe\">\n",
       "  <thead>\n",
       "    <tr style=\"text-align: right;\">\n",
       "      <th></th>\n",
       "      <th>f1</th>\n",
       "      <th>roc_auc</th>\n",
       "      <th>Olympics Year</th>\n",
       "    </tr>\n",
       "  </thead>\n",
       "  <tbody>\n",
       "    <tr>\n",
       "      <th>0</th>\n",
       "      <td>0.800000</td>\n",
       "      <td>0.916667</td>\n",
       "      <td>1964-06-29</td>\n",
       "    </tr>\n",
       "    <tr>\n",
       "      <th>1</th>\n",
       "      <td>0.818182</td>\n",
       "      <td>0.902344</td>\n",
       "      <td>1968-06-29</td>\n",
       "    </tr>\n",
       "    <tr>\n",
       "      <th>2</th>\n",
       "      <td>0.880000</td>\n",
       "      <td>0.977667</td>\n",
       "      <td>1972-06-29</td>\n",
       "    </tr>\n",
       "    <tr>\n",
       "      <th>3</th>\n",
       "      <td>0.818182</td>\n",
       "      <td>0.970370</td>\n",
       "      <td>1976-06-29</td>\n",
       "    </tr>\n",
       "    <tr>\n",
       "      <th>4</th>\n",
       "      <td>0.750000</td>\n",
       "      <td>0.962500</td>\n",
       "      <td>1980-06-29</td>\n",
       "    </tr>\n",
       "    <tr>\n",
       "      <th>5</th>\n",
       "      <td>0.600000</td>\n",
       "      <td>0.927296</td>\n",
       "      <td>1984-06-29</td>\n",
       "    </tr>\n",
       "    <tr>\n",
       "      <th>6</th>\n",
       "      <td>0.823529</td>\n",
       "      <td>0.971675</td>\n",
       "      <td>1988-06-29</td>\n",
       "    </tr>\n",
       "    <tr>\n",
       "      <th>7</th>\n",
       "      <td>0.838710</td>\n",
       "      <td>0.931327</td>\n",
       "      <td>1992-06-29</td>\n",
       "    </tr>\n",
       "    <tr>\n",
       "      <th>8</th>\n",
       "      <td>0.857143</td>\n",
       "      <td>0.930183</td>\n",
       "      <td>1996-06-29</td>\n",
       "    </tr>\n",
       "    <tr>\n",
       "      <th>9</th>\n",
       "      <td>0.864865</td>\n",
       "      <td>0.924603</td>\n",
       "      <td>2000-06-29</td>\n",
       "    </tr>\n",
       "    <tr>\n",
       "      <th>10</th>\n",
       "      <td>0.914286</td>\n",
       "      <td>0.978889</td>\n",
       "      <td>2004-06-29</td>\n",
       "    </tr>\n",
       "    <tr>\n",
       "      <th>11</th>\n",
       "      <td>0.800000</td>\n",
       "      <td>0.961207</td>\n",
       "      <td>2008-06-29</td>\n",
       "    </tr>\n",
       "    <tr>\n",
       "      <th>12</th>\n",
       "      <td>0.882353</td>\n",
       "      <td>0.956856</td>\n",
       "      <td>2012-06-29</td>\n",
       "    </tr>\n",
       "  </tbody>\n",
       "</table>\n",
       "</div>"
      ],
      "text/plain": [
       "          f1   roc_auc Olympics Year\n",
       "0   0.800000  0.916667    1964-06-29\n",
       "1   0.818182  0.902344    1968-06-29\n",
       "2   0.880000  0.977667    1972-06-29\n",
       "3   0.818182  0.970370    1976-06-29\n",
       "4   0.750000  0.962500    1980-06-29\n",
       "5   0.600000  0.927296    1984-06-29\n",
       "6   0.823529  0.971675    1988-06-29\n",
       "7   0.838710  0.931327    1992-06-29\n",
       "8   0.857143  0.930183    1996-06-29\n",
       "9   0.864865  0.924603    2000-06-29\n",
       "10  0.914286  0.978889    2004-06-29\n",
       "11  0.800000  0.961207    2008-06-29\n",
       "12  0.882353  0.956856    2012-06-29"
      ]
     },
     "execution_count": 26,
     "metadata": {},
     "output_type": "execute_result"
    }
   ],
   "source": [
    "binary_scores"
   ]
  },
  {
   "cell_type": "markdown",
   "metadata": {},
   "source": [
    "## Comparison to full feature set\n",
    "\n",
    "We do approximately the same as our original model. What's more interesting is that we now have a smaller set of highly explainable features. We can reduce this feature set even more without a huge drop in accuracy. Here it is with 100 features."
   ]
  },
  {
   "cell_type": "code",
   "execution_count": 27,
   "metadata": {},
   "outputs": [
    {
     "name": "stdout",
     "output_type": "stream",
     "text": [
      "  f1 mean score:  0.82 +/- 0.08\n"
     ]
    }
   ],
   "source": [
    "important_feature_matrix = important_feature_matrix[top400[:100]]\n",
    "\n",
    "rf_clf = RandomForestClassifier(n_estimators=100, n_jobs=-1)\n",
    "pipeline = Pipeline(pipeline_preprocessing + [('rf_clf', rf_clf)])\n",
    "binary_scores = fit_and_score(important_feature_matrix.values, y_binary, splitter, pipeline, _type='classification')\n",
    "show_score(binary_scores, 'f1')"
   ]
  },
  {
   "cell_type": "markdown",
   "metadata": {},
   "source": [
    "## Smaller set of important features\n",
    "\n",
    "Now let's take a closer look at the highest weighted features"
   ]
  },
  {
   "cell_type": "code",
   "execution_count": 28,
   "metadata": {},
   "outputs": [
    {
     "name": "stdout",
     "output_type": "stream",
     "text": [
      "Test year: 1964\n"
     ]
    },
    {
     "data": {
      "text/html": [
       "<div>\n",
       "<style scoped>\n",
       "    .dataframe tbody tr th:only-of-type {\n",
       "        vertical-align: middle;\n",
       "    }\n",
       "\n",
       "    .dataframe tbody tr th {\n",
       "        vertical-align: top;\n",
       "    }\n",
       "\n",
       "    .dataframe thead th {\n",
       "        text-align: right;\n",
       "    }\n",
       "</style>\n",
       "<table border=\"1\" class=\"dataframe\">\n",
       "  <thead>\n",
       "    <tr style=\"text-align: right;\">\n",
       "      <th></th>\n",
       "      <th>Feature</th>\n",
       "      <th>Importance</th>\n",
       "    </tr>\n",
       "  </thead>\n",
       "  <tbody>\n",
       "    <tr>\n",
       "      <th>0</th>\n",
       "      <td>MEAN(countries_at_olympic_games.COUNT(medals_won WHERE Medal = Gold))</td>\n",
       "      <td>0.047981</td>\n",
       "    </tr>\n",
       "    <tr>\n",
       "      <th>1</th>\n",
       "      <td>MEAN(countries_at_olympic_games.SUM(medals_won.NUM_UNIQUE(medaling_athletes.athletes.Gender)))</td>\n",
       "      <td>0.033700</td>\n",
       "    </tr>\n",
       "    <tr>\n",
       "      <th>2</th>\n",
       "      <td>COUNT(medaling_athletes)</td>\n",
       "      <td>0.029114</td>\n",
       "    </tr>\n",
       "    <tr>\n",
       "      <th>3</th>\n",
       "      <td>MAX(countries_at_olympic_games.countries.mean_num_medals)</td>\n",
       "      <td>0.025996</td>\n",
       "    </tr>\n",
       "    <tr>\n",
       "      <th>4</th>\n",
       "      <td>MEAN(countries_at_olympic_games.SKEW(medals_won.NUM_UNIQUE(medaling_athletes.athletes.Gender)))</td>\n",
       "      <td>0.025273</td>\n",
       "    </tr>\n",
       "    <tr>\n",
       "      <th>5</th>\n",
       "      <td>MEAN(countries_at_olympic_games.NUM_UNIQUE(medals_won.disciplines.MODE(medals_won.Event)))</td>\n",
       "      <td>0.024172</td>\n",
       "    </tr>\n",
       "    <tr>\n",
       "      <th>6</th>\n",
       "      <td>MEAN(countries_at_olympic_games.SUM(medals_won.disciplines.NUM_UNIQUE(medals_won.Medal)))</td>\n",
       "      <td>0.022265</td>\n",
       "    </tr>\n",
       "    <tr>\n",
       "      <th>7</th>\n",
       "      <td>COUNT(medals_won WHERE Medal = Gold)</td>\n",
       "      <td>0.022099</td>\n",
       "    </tr>\n",
       "    <tr>\n",
       "      <th>8</th>\n",
       "      <td>COUNT(medals_won)</td>\n",
       "      <td>0.019102</td>\n",
       "    </tr>\n",
       "    <tr>\n",
       "      <th>9</th>\n",
       "      <td>MEAN(countries_at_olympic_games.NUM_UNIQUE(medals_won.Event))</td>\n",
       "      <td>0.018379</td>\n",
       "    </tr>\n",
       "  </tbody>\n",
       "</table>\n",
       "</div>"
      ],
      "text/plain": [
       "                                                                                           Feature  \\\n",
       "0                            MEAN(countries_at_olympic_games.COUNT(medals_won WHERE Medal = Gold))   \n",
       "1   MEAN(countries_at_olympic_games.SUM(medals_won.NUM_UNIQUE(medaling_athletes.athletes.Gender)))   \n",
       "2                                                                         COUNT(medaling_athletes)   \n",
       "3                                        MAX(countries_at_olympic_games.countries.mean_num_medals)   \n",
       "4  MEAN(countries_at_olympic_games.SKEW(medals_won.NUM_UNIQUE(medaling_athletes.athletes.Gender)))   \n",
       "5       MEAN(countries_at_olympic_games.NUM_UNIQUE(medals_won.disciplines.MODE(medals_won.Event)))   \n",
       "6        MEAN(countries_at_olympic_games.SUM(medals_won.disciplines.NUM_UNIQUE(medals_won.Medal)))   \n",
       "7                                                             COUNT(medals_won WHERE Medal = Gold)   \n",
       "8                                                                                COUNT(medals_won)   \n",
       "9                                    MEAN(countries_at_olympic_games.NUM_UNIQUE(medals_won.Event))   \n",
       "\n",
       "   Importance  \n",
       "0    0.047981  \n",
       "1    0.033700  \n",
       "2    0.029114  \n",
       "3    0.025996  \n",
       "4    0.025273  \n",
       "5    0.024172  \n",
       "6    0.022265  \n",
       "7    0.022099  \n",
       "8    0.019102  \n",
       "9    0.018379  "
      ]
     },
     "metadata": {},
     "output_type": "display_data"
    },
    {
     "name": "stdout",
     "output_type": "stream",
     "text": [
      "Test year: 2012\n"
     ]
    },
    {
     "data": {
      "text/html": [
       "<div>\n",
       "<style scoped>\n",
       "    .dataframe tbody tr th:only-of-type {\n",
       "        vertical-align: middle;\n",
       "    }\n",
       "\n",
       "    .dataframe tbody tr th {\n",
       "        vertical-align: top;\n",
       "    }\n",
       "\n",
       "    .dataframe thead th {\n",
       "        text-align: right;\n",
       "    }\n",
       "</style>\n",
       "<table border=\"1\" class=\"dataframe\">\n",
       "  <thead>\n",
       "    <tr style=\"text-align: right;\">\n",
       "      <th></th>\n",
       "      <th>Feature</th>\n",
       "      <th>Importance</th>\n",
       "    </tr>\n",
       "  </thead>\n",
       "  <tbody>\n",
       "    <tr>\n",
       "      <th>0</th>\n",
       "      <td>MEAN(countries_at_olympic_games.SKEW(medals_won.NUM_UNIQUE(medaling_athletes.Athlete)))</td>\n",
       "      <td>0.063290</td>\n",
       "    </tr>\n",
       "    <tr>\n",
       "      <th>1</th>\n",
       "      <td>MEAN(countries_at_olympic_games.SKEW(medals_won.COUNT(medaling_athletes)))</td>\n",
       "      <td>0.059640</td>\n",
       "    </tr>\n",
       "    <tr>\n",
       "      <th>2</th>\n",
       "      <td>MEAN(countries_at_olympic_games.COUNT(medals_won WHERE Medal = Gold))</td>\n",
       "      <td>0.039226</td>\n",
       "    </tr>\n",
       "    <tr>\n",
       "      <th>3</th>\n",
       "      <td>MEAN(countries_at_olympic_games.COUNT(medals_won WHERE Medal = Silver))</td>\n",
       "      <td>0.029416</td>\n",
       "    </tr>\n",
       "    <tr>\n",
       "      <th>4</th>\n",
       "      <td>MAX(countries_at_olympic_games.SKEW(medals_won.NUM_UNIQUE(medaling_athletes.Athlete)))</td>\n",
       "      <td>0.027165</td>\n",
       "    </tr>\n",
       "    <tr>\n",
       "      <th>5</th>\n",
       "      <td>MEAN(countries_at_olympic_games.SUM(medals_won.NUM_UNIQUE(medaling_athletes.athletes.Gender)))</td>\n",
       "      <td>0.024432</td>\n",
       "    </tr>\n",
       "    <tr>\n",
       "      <th>6</th>\n",
       "      <td>MEAN(countries_at_olympic_games.NUM_UNIQUE(medals_won.MODE(medaling_athletes.Athlete)))</td>\n",
       "      <td>0.023940</td>\n",
       "    </tr>\n",
       "    <tr>\n",
       "      <th>7</th>\n",
       "      <td>MEAN(countries_at_olympic_games.NUM_UNIQUE(medals_won.Event))</td>\n",
       "      <td>0.023752</td>\n",
       "    </tr>\n",
       "    <tr>\n",
       "      <th>8</th>\n",
       "      <td>MEAN(countries_at_olympic_games.SUM(medals_won.disciplines.NUM_UNIQUE(medals_won.Event)))</td>\n",
       "      <td>0.023173</td>\n",
       "    </tr>\n",
       "    <tr>\n",
       "      <th>9</th>\n",
       "      <td>TREND(countries_at_olympic_games.SKEW(medals_won.NUM_UNIQUE(medaling_athletes.Athlete)), Year)</td>\n",
       "      <td>0.019542</td>\n",
       "    </tr>\n",
       "  </tbody>\n",
       "</table>\n",
       "</div>"
      ],
      "text/plain": [
       "                                                                                          Feature  \\\n",
       "0         MEAN(countries_at_olympic_games.SKEW(medals_won.NUM_UNIQUE(medaling_athletes.Athlete)))   \n",
       "1                      MEAN(countries_at_olympic_games.SKEW(medals_won.COUNT(medaling_athletes)))   \n",
       "2                           MEAN(countries_at_olympic_games.COUNT(medals_won WHERE Medal = Gold))   \n",
       "3                         MEAN(countries_at_olympic_games.COUNT(medals_won WHERE Medal = Silver))   \n",
       "4          MAX(countries_at_olympic_games.SKEW(medals_won.NUM_UNIQUE(medaling_athletes.Athlete)))   \n",
       "5  MEAN(countries_at_olympic_games.SUM(medals_won.NUM_UNIQUE(medaling_athletes.athletes.Gender)))   \n",
       "6         MEAN(countries_at_olympic_games.NUM_UNIQUE(medals_won.MODE(medaling_athletes.Athlete)))   \n",
       "7                                   MEAN(countries_at_olympic_games.NUM_UNIQUE(medals_won.Event))   \n",
       "8       MEAN(countries_at_olympic_games.SUM(medals_won.disciplines.NUM_UNIQUE(medals_won.Event)))   \n",
       "9  TREND(countries_at_olympic_games.SKEW(medals_won.NUM_UNIQUE(medaling_athletes.Athlete)), Year)   \n",
       "\n",
       "   Importance  \n",
       "0    0.063290  \n",
       "1    0.059640  \n",
       "2    0.039226  \n",
       "3    0.029416  \n",
       "4    0.027165  \n",
       "5    0.024432  \n",
       "6    0.023940  \n",
       "7    0.023752  \n",
       "8    0.023173  \n",
       "9    0.019542  "
      ]
     },
     "metadata": {},
     "output_type": "display_data"
    }
   ],
   "source": [
    "feature_imps_over_time = get_feature_importances(pipeline,\n",
    "                                                 important_feature_matrix,\n",
    "                                                 binary_labels,\n",
    "                                                 splitter,\n",
    "                                                 n=50)\n",
    "pd.set_option('display.max_colwidth', 100)\n",
    "for test_year in [1964, 2012]:\n",
    "    print \"Test year: %s\" % test_year\n",
    "    test_date = pd.Timestamp('6/29/{}'.format(test_year))\n",
    "    display(feature_imps_over_time[test_date].iloc[:10].reset_index(drop=True))\n",
    "pd.set_option('display.max_colwidth', 50)"
   ]
  },
  {
   "cell_type": "markdown",
   "metadata": {},
   "source": [
    "The important features make a lot of sense. The most important feature in 1964 and second most in 2012 is `MEAN(countries_at_olympic_games.COUNT(medals_won WHERE Medal = Gold))`. Let's parse this. The best way to read this is from the inside out. We see `COUNT(medals_won WHERE Medal = Gold` &mdash; This is the number of gold medals for each country at each individual Olympics. We then take the mean over all previous Olympics of this quantity, for each country. Putting it all together, it is a country's average gold medal count.\n",
    "\n",
    "The best feature in 2012 is a skew feature. It's `MEAN(countries_at_olympic_games.SKEW(medals_won.COUNT(medaling_athletes)))`. Again, start from the inside. `medals_won.COUNT(medaling_athletes)` counts the number of athletes for each medal, which is relevant for a team sport like basketball where many athletes can win the same medal. Then we take the skew of the distribution of those values across all the medals a country won in a particular Olympics, and average across all previous Olympics. This skew quantity is a measure of how weird the distribution looks compared to a normal Bell-curve distribution, and so captures information about how many of a country's medals are won in team sports. \n",
    "\n",
    "Finally, an easier one to parse is `COUNT(medaling_athletes)`. It's just a count of all the athletes that have won medals for a country in the past."
   ]
  },
  {
   "cell_type": "markdown",
   "metadata": {},
   "source": [
    "## Why were some years difficult to predict?\n",
    "Specifically, the years between 1970 and 1992 showed high variability in scores.\n",
    "\n",
    "The Olympics in the 1980s were marred by controversies. Summarizing the\n",
    "[Wikipedia article](https://en.wikipedia.org/wiki/List_of_Olympic_Games_scandals_and_controversies):\n",
    "1. Rule changes\n",
    "   - This is the period that the IOC gradually started allowing professional\n",
    "   athletes\n",
    "2. Geopolitics\n",
    "   - Widespread boycotts due to the Cold War\n",
    "   - Montreal 1976: 22 African nations boycotted (to protest New Zealand's\n",
    "   rugby team's tour of South Africa during Apartheid). China and Taiwan both\n",
    "   boycotted. Fewest number of countries (92) participating since 1960.\n",
    "   - Moscow 1980: US boycotts because of Soviet invasion of Afghanistan.\n",
    "      Even fewer number of countries (80) than 1976\n",
    "   - Los Angeles 1984: Soviet Union and 15 Eastern Bloc nations boycott\n",
    "   because of \"safety concerns\". (However, a record 140 National Olympic\n",
    "   Committees took part)\n",
    "      Even fewer number of countries (80) than 1976\n",
    "3. Performance-enhancing Drugs\n",
    "   - late 1970s and especially 1980s ushered in the era of steroids\n",
    "   - quote from 1989 Australian study \"There is hardly a medal winner at the\n",
    "   Moscow Games, certainly not a gold medal winner, who is not on one sort of\n",
    "   drug or another: usually several kinds. The Moscow Games might as well have\n",
    "   been called the Chemists' Games.\" See the wiki\n",
    "   [page](https://en.wikipedia.org/wiki/Olympic_Games#Use_of_performance-enhancing_drugs), citation 183.\n",
    "4. Gender discrimination\n",
    "   - Many countries didn't send women until the late 1990s"
   ]
  },
  {
   "cell_type": "markdown",
   "metadata": {},
   "source": [
    "## Let's make a prediction about the 2016 Olympics\n",
    "\n",
    "We've trained models to predict the highest medaling countries in past Olympic Games, so we might as well use those models to predict who will receive the most medals in the next Olympics. This dataset came out before 2016, so we can compare to what actually happened. Unfortunately, the way our model is set up we would have to add in the 2016 data to make predictions about 2020 (I'll leave that up to you to try out yourself)."
   ]
  },
  {
   "cell_type": "code",
   "execution_count": 29,
   "metadata": {},
   "outputs": [
    {
     "name": "stdout",
     "output_type": "stream",
     "text": [
      "Progress: 100%|██████████| 1/1 [00:31<00:00, 31.97s/cutoff time]\n"
     ]
    },
    {
     "data": {
      "text/plain": [
       "<matplotlib.axes._subplots.AxesSubplot at 0x112966050>"
      ]
     },
     "execution_count": 29,
     "metadata": {},
     "output_type": "execute_result"
    },
    {
     "data": {
      "image/png": "[encoded data removed]",
      "text/plain": [
       "<matplotlib.figure.Figure at 0x112963110>"
      ]
     },
     "metadata": {},
     "output_type": "display_data"
    }
   ],
   "source": [
    "# Train on all data\n",
    "reg_pipeline.fit(important_feature_matrix, y)\n",
    "\n",
    "# Get the top feature objects to compute\n",
    "important_features = {f.get_name(): f for f in features_encoded\n",
    "                      if f.get_name() in important_feature_matrix.columns}.values()\n",
    "# Compute feature matrix on all data (no cutoff time)\n",
    "# Leave cutoff_date blank to use the current time\n",
    "df = es['countries_at_olympic_games'].df\n",
    "countries_2012 = df.loc[df['Year'] == pd.Timestamp('2012-06-30'), 'Country']\n",
    "latest_fm = ft.calculate_feature_matrix(features=important_features,\n",
    "                                        instance_ids=countries_2012,\n",
    "                                        cutoff_time=None,\n",
    "                                        verbose=True)\n",
    "# Make sure order is correct\n",
    "latest_fm = latest_fm[important_feature_matrix.columns]\n",
    "\n",
    "predictions = reg_pipeline.predict(latest_fm)\n",
    "predictions_by_country = pd.Series(predictions, index=latest_fm.index)\n",
    "predictions_by_country.sort_values(ascending=False, inplace=True)\n",
    "predictions_by_country.head(20).plot(kind='bar')"
   ]
  },
  {
   "cell_type": "markdown",
   "metadata": {},
   "source": [
    "The actual medal count is available [here](https://en.wikipedia.org/wiki/2016_Summer_Olympics_medal_table).\n",
    "I took the first 20 to plot:"
   ]
  },
  {
   "cell_type": "code",
   "execution_count": 30,
   "metadata": {},
   "outputs": [
    {
     "data": {
      "text/plain": [
       "<matplotlib.axes._subplots.AxesSubplot at 0x113700410>"
      ]
     },
     "execution_count": 30,
     "metadata": {},
     "output_type": "execute_result"
    },
    {
     "data": {
      "image/png": "[encoded data removed]",
      "text/plain": [
       "<matplotlib.figure.Figure at 0x1136f89d0>"
      ]
     },
     "metadata": {},
     "output_type": "display_data"
    }
   ],
   "source": [
    "actual_2016 = pd.DataFrame.from_records([('USA', 121),\n",
    "('CHN', 70) ,\n",
    "('GBR', 67) ,\n",
    "('RUS', 56) ,\n",
    "('GER', 42) ,\n",
    "('FRA', 42) ,\n",
    "('JPN', 41) ,\n",
    "('AUS', 29) ,\n",
    "('ITA', 28) ,\n",
    "('CAN', 22) ,\n",
    "('KOR', 21) ,\n",
    "('NED', 19) ,\n",
    "('BRA', 19) ,\n",
    "('NZL', 18) ,\n",
    "('KAZ', 18) ,\n",
    "('AZE', 18) ,\n",
    "('ESP', 17) ,\n",
    "('HUN', 15) ,\n",
    "('DEN', 15) ,\n",
    "('KEN', 1)], columns=['Country', 'Medals']).set_index(['Country'])['Medals']\n",
    "\n",
    "actual_2016.plot(kind='bar')"
   ]
  },
  {
   "cell_type": "markdown",
   "metadata": {},
   "source": [
    "#### Side by side comparison"
   ]
  },
  {
   "cell_type": "code",
   "execution_count": 31,
   "metadata": {},
   "outputs": [
    {
     "data": {
      "text/plain": [
       "<matplotlib.axes._subplots.AxesSubplot at 0x1152e7e10>"
      ]
     },
     "execution_count": 31,
     "metadata": {},
     "output_type": "execute_result"
    },
    {
     "data": {
      "image/png": "[encoded data removed]",
      "text/plain": [
       "<matplotlib.figure.Figure at 0x113347250>"
      ]
     },
     "metadata": {},
     "output_type": "display_data"
    }
   ],
   "source": [
    "(pd.DataFrame({'Predicted': predictions_by_country.head(100), 'Actual': actual_2016.head(100)})\n",
    "   .sort_values(['Actual'],ascending=False).head(10)\n",
    "   .plot(kind='bar', title='Actual vs. Predicted Medal Count by Country (2016)'))"
   ]
  },
  {
   "cell_type": "markdown",
   "metadata": {},
   "source": [
    "Looks like we overestimated Russia and underestimated Great Britain and China!\n",
    "\n",
    "However- recall that in this past Olympics Russia was implicated in a major state-sponsored doping scandal. This resulted in the disqualification of essentially the entire track & field team. So Russia would otherwise probably have score many more medals."
   ]
  },
  {
   "cell_type": "markdown",
   "metadata": {},
   "source": [
    "## A fun prediction\n",
    "Our data includes all the countries that have ever medaled in any Olympics. There's nothing stopping us from generating predictions for defunct countries. Let's see what happens if we predict the number of medals won in 2016 for every historical country."
   ]
  },
  {
   "cell_type": "code",
   "execution_count": 32,
   "metadata": {},
   "outputs": [
    {
     "name": "stdout",
     "output_type": "stream",
     "text": [
      "Progress: 100%|██████████| 1/1 [00:42<00:00, 42.04s/cutoff time]\n"
     ]
    },
    {
     "data": {
      "text/plain": [
       "<matplotlib.axes._subplots.AxesSubplot at 0x1110bbe50>"
      ]
     },
     "execution_count": 32,
     "metadata": {},
     "output_type": "execute_result"
    },
    {
     "data": {
      "image/png": "[encoded data removed]",
      "text/plain": [
       "<matplotlib.figure.Figure at 0x113dcb450>"
      ]
     },
     "metadata": {},
     "output_type": "display_data"
    }
   ],
   "source": [
    "# Leave instance_ids blank to use all\n",
    "latest_fm = ft.calculate_feature_matrix(features=important_features,\n",
    "                                        cutoff_time=None,\n",
    "                                        verbose=True)\n",
    "# Make sure order is correct\n",
    "latest_fm = latest_fm[important_feature_matrix.columns]\n",
    "\n",
    "predictions = reg_pipeline.predict(latest_fm)\n",
    "predictions_by_country_all = pd.Series(predictions, index=latest_fm.index)\n",
    "predictions_by_country_all.sort_values(ascending=False, inplace=True)\n",
    "predictions_by_country_all.head(20).plot(kind='bar', title='2016 Predictions Including Historical Countries')"
   ]
  },
  {
   "cell_type": "markdown",
   "metadata": {},
   "source": [
    "Our model thinks that if the former Soviet Union were alive today it would win it all, the unified post-Soviet breakup team (EUN) would come in 3rd, and both East Germany (GDR) and West Germany (FRG) would come out ahead of modern-day Germany (GER)."
   ]
  },
  {
   "cell_type": "markdown",
   "metadata": {},
   "source": [
    "<p>\n",
    "    <img src=\"https://www.featurelabs.com/img/logo.png\" alt=\"Featuretools\" />\n",
    "</p>\n",
    "\n",
    "\n",
    "Featuretools was created by the developers at [Feature Labs](https://www.featurelabs.com/). If building impactful data science pipelines is important to you or your business, please [get in touch](https://www.featurelabs.com/contact.html)."
   ]
  }
 ],
 "metadata": {
  "kernelspec": {
   "display_name": "Python 2",
   "language": "python",
   "name": "python2"
  },
  "language_info": {
   "codemirror_mode": {
    "name": "ipython",
    "version": 2
   },
   "file_extension": ".py",
   "mimetype": "text/x-python",
   "name": "python",
   "nbconvert_exporter": "python",
   "pygments_lexer": "ipython2",
   "version": "2.7.13"
  }
 },
 "nbformat": 4,
 "nbformat_minor": 2
}
