{
 "cells": [
  {
   "cell_type": "markdown",
   "metadata": {},
   "source": [
    "# Baseline Solution for Predicting Olympic Medal Count\n",
    "\n",
    "This notebook implements and analyzes a naive baseline predictive model for the following purposes:\n",
    " 1. To showcase the power of Featuretools' abstractions for code brevity and clarity\n",
    " 2. To make a case for interpretable models\n",
    " \n",
    "This notebook is meant as a companion notebook to [FeaturetoolsPredictiveModeling.ipynb](FeaturetoolsPredictiveModeling.ipynb). That notebook explains the concepts of Feature Engineering and Machine Learning in more depth. While the solutions here will outperform random guessing, feature engineering is necessary if we want significantly better results."
   ]
  },
  {
   "cell_type": "code",
   "execution_count": 1,
   "metadata": {
    "collapsed": true
   },
   "outputs": [],
   "source": [
    "import pandas as pd\n",
    "import numpy as np\n",
    "import featuretools as ft\n",
    "from featuretools.primitives import Count, NUnique\n",
    "from ml import (score_predictions,\n",
    "                bin_labels,\n",
    "                TimeSeriesSplitByDate,\n",
    "                fit_and_score)\n",
    "from load_entityset import load_entityset\n",
    "from utils import get_feature_importances\n",
    "from sklearn.linear_model import LinearRegression, LogisticRegression\n",
    "from sklearn.ensemble import RandomForestClassifier, RandomForestRegressor\n",
    "from sklearn.pipeline import Pipeline\n",
    "from sklearn.preprocessing import Imputer, RobustScaler\n",
    "from IPython.display import display\n",
    "import os\n",
    "%load_ext autoreload\n",
    "%autoreload 2\n",
    "%matplotlib inline"
   ]
  },
  {
   "cell_type": "code",
   "execution_count": 2,
   "metadata": {
    "collapsed": true
   },
   "outputs": [],
   "source": [
    "dir_path = os.getcwd()\n",
    "ROOT_DATA_FOLDER = os.path.join(dir_path,\"data/olympic_games_data\")"
   ]
  },
  {
   "cell_type": "markdown",
   "metadata": {},
   "source": [
    "### Load in data and labels"
   ]
  },
  {
   "cell_type": "code",
   "execution_count": 3,
   "metadata": {},
   "outputs": [
    {
     "name": "stderr",
     "output_type": "stream",
     "text": [
      "load_entityset.py:173: FutureWarning: \n",
      "Passing list-likes to .loc or [] with any missing label will raise\n",
      "KeyError in the future, you can use .reindex() as an alternative.\n",
      "\n",
      "See the documentation here:\n",
      "http://pandas.pydata.org/pandas-docs/stable/indexing.html#deprecate-loc-reindex-listlike\n",
      "  columns_to_pull_from_similar]\n",
      "/usr/local/lib/python2.7/site-packages/pandas/core/indexing.py:1367: FutureWarning: \n",
      "Passing list-likes to .loc or [] with any missing label will raise\n",
      "KeyError in the future, you can use .reindex() as an alternative.\n",
      "\n",
      "See the documentation here:\n",
      "http://pandas.pydata.org/pandas-docs/stable/indexing.html#deprecate-loc-reindex-listlike\n",
      "  return self._getitem_tuple(key)\n"
     ]
    }
   ],
   "source": [
    "es = load_entityset(data_dir=ROOT_DATA_FOLDER)\n",
    "label_file = os.path.join(ROOT_DATA_FOLDER, \"num_medals_by_country_labels.csv\")\n",
    "label_df = pd.read_csv(label_file,\n",
    "                       parse_dates=['Olympics Date'],\n",
    "                       usecols=['Number of Medals', 'Olympics Date', 'Country'],\n",
    "                       encoding='utf-8')\n",
    "# Sort by the date of the Olympics, and by the country (to maintain a consistent ordering)\n",
    "label_df.sort_values(['Olympics Date', 'Country'], inplace=True)\n",
    "# label_df.head()"
   ]
  },
  {
   "cell_type": "code",
   "execution_count": 4,
   "metadata": {
    "collapsed": true
   },
   "outputs": [],
   "source": [
    "# Just want the Country and time to compute features (we're removing the label column here)\n",
    "cutoff_times = label_df[['Country', 'Olympics Date']]\n",
    "# Code is the index of the \"countries\" entity in the entityset (short for Country Code)\n",
    "cutoff_times = cutoff_times.rename(columns={'Country': 'Code'})"
   ]
  },
  {
   "cell_type": "markdown",
   "metadata": {},
   "source": [
    "# Baseline Predict: Mean number of past medals\n",
    "\n",
    "We will calculate the mean number of medals won by a country in the past, and use that as our prediction for the future. This solution does not use any machine learning."
   ]
  },
  {
   "cell_type": "markdown",
   "metadata": {},
   "source": [
    "### Define features using Featuretools"
   ]
  },
  {
   "cell_type": "code",
   "execution_count": 5,
   "metadata": {
    "collapsed": true
   },
   "outputs": [],
   "source": [
    "# total number of medals per country\n",
    "total_num_medals = Count(es['medals_won']['medal_id'], es['countries'])\n",
    "# Number of unique Olympic Games each country has been present at\n",
    "count_num_olympics = NUnique(es['countries_at_olympic_games']['Olympic Games ID'],\n",
    "                             es['countries'])\n",
    "# Mean number of medals = total medals across all previous Olympics / number of previous Olympics\n",
    "mean_num_medals = (total_num_medals / count_num_olympics).rename(\"mean_num_medals\")"
   ]
  },
  {
   "cell_type": "markdown",
   "metadata": {},
   "source": [
    "### Compute features"
   ]
  },
  {
   "cell_type": "code",
   "execution_count": 6,
   "metadata": {},
   "outputs": [
    {
     "name": "stdout",
     "output_type": "stream",
     "text": [
      "Progress: 100%|██████████| 27/27 [00:14<00:00,  1.01cutoff time/s]\n"
     ]
    },
    {
     "data": {
      "text/html": [
       "<div>\n",
       "<style scoped>\n",
       "    .dataframe tbody tr th:only-of-type {\n",
       "        vertical-align: middle;\n",
       "    }\n",
       "\n",
       "    .dataframe tbody tr th {\n",
       "        vertical-align: top;\n",
       "    }\n",
       "\n",
       "    .dataframe thead th {\n",
       "        text-align: right;\n",
       "    }\n",
       "</style>\n",
       "<table border=\"1\" class=\"dataframe\">\n",
       "  <thead>\n",
       "    <tr style=\"text-align: right;\">\n",
       "      <th></th>\n",
       "      <th></th>\n",
       "      <th>mean_num_medals</th>\n",
       "    </tr>\n",
       "    <tr>\n",
       "      <th>Code</th>\n",
       "      <th>time</th>\n",
       "      <th></th>\n",
       "    </tr>\n",
       "  </thead>\n",
       "  <tbody>\n",
       "    <tr>\n",
       "      <th>TUN</th>\n",
       "      <th>2012-06-29</th>\n",
       "      <td>1.25</td>\n",
       "    </tr>\n",
       "    <tr>\n",
       "      <th>TUR</th>\n",
       "      <th>2012-06-29</th>\n",
       "      <td>5.20</td>\n",
       "    </tr>\n",
       "    <tr>\n",
       "      <th>UKR</th>\n",
       "      <th>2012-06-29</th>\n",
       "      <td>17.00</td>\n",
       "    </tr>\n",
       "    <tr>\n",
       "      <th>USA</th>\n",
       "      <th>2012-06-29</th>\n",
       "      <td>71.20</td>\n",
       "    </tr>\n",
       "    <tr>\n",
       "      <th>UZB</th>\n",
       "      <th>2012-06-29</th>\n",
       "      <td>3.50</td>\n",
       "    </tr>\n",
       "  </tbody>\n",
       "</table>\n",
       "</div>"
      ],
      "text/plain": [
       "                 mean_num_medals\n",
       "Code time                       \n",
       "TUN  2012-06-29             1.25\n",
       "TUR  2012-06-29             5.20\n",
       "UKR  2012-06-29            17.00\n",
       "USA  2012-06-29            71.20\n",
       "UZB  2012-06-29             3.50"
      ]
     },
     "execution_count": 6,
     "metadata": {},
     "output_type": "execute_result"
    }
   ],
   "source": [
    "feature_matrix = ft.calculate_feature_matrix([mean_num_medals],\n",
    "                                             cutoff_time=cutoff_times,\n",
    "                                             cutoff_time_in_index=True,\n",
    "                                             verbose=True)\n",
    "feature_matrix.tail()"
   ]
  },
  {
   "cell_type": "markdown",
   "metadata": {},
   "source": [
    "### How hard is this to do without Featuretools?\n",
    "\n",
    "Computing the same quantity is a bit complicated: for each (Country, Olympics Date) combo, we have to compute the average number of medals *prior* to that date. The very first Olympics for each country would thus have a `np.nan` value for this average, since there is no data prior to that point.\n",
    "\n",
    "Therefore, we prepend an additional row for each country for the Olympics prior to its first entry (with a `nan` for the number of medals won), and then add 4 years to each row of the whole DataFrame. Then we can group by the \"Country\" and use the Pandas expanding mean function to calculate the historical mean from all of the previous medals won by a Country."
   ]
  },
  {
   "cell_type": "code",
   "execution_count": 7,
   "metadata": {},
   "outputs": [
    {
     "data": {
      "text/html": [
       "<div>\n",
       "<style scoped>\n",
       "    .dataframe tbody tr th:only-of-type {\n",
       "        vertical-align: middle;\n",
       "    }\n",
       "\n",
       "    .dataframe tbody tr th {\n",
       "        vertical-align: top;\n",
       "    }\n",
       "\n",
       "    .dataframe thead th {\n",
       "        text-align: right;\n",
       "    }\n",
       "</style>\n",
       "<table border=\"1\" class=\"dataframe\">\n",
       "  <thead>\n",
       "    <tr style=\"text-align: right;\">\n",
       "      <th></th>\n",
       "      <th>Olympics Date</th>\n",
       "      <th>Country</th>\n",
       "      <th>Number of Medals</th>\n",
       "    </tr>\n",
       "  </thead>\n",
       "  <tbody>\n",
       "    <tr>\n",
       "      <th>1101</th>\n",
       "      <td>2012-06-29</td>\n",
       "      <td>UKR</td>\n",
       "      <td>17.0</td>\n",
       "    </tr>\n",
       "    <tr>\n",
       "      <th>1146</th>\n",
       "      <td>2012-06-29</td>\n",
       "      <td>USA</td>\n",
       "      <td>71.2</td>\n",
       "    </tr>\n",
       "    <tr>\n",
       "      <th>1152</th>\n",
       "      <td>2012-06-29</td>\n",
       "      <td>UZB</td>\n",
       "      <td>3.5</td>\n",
       "    </tr>\n",
       "    <tr>\n",
       "      <th>1164</th>\n",
       "      <td>2012-06-29</td>\n",
       "      <td>VIE</td>\n",
       "      <td>1.0</td>\n",
       "    </tr>\n",
       "    <tr>\n",
       "      <th>1185</th>\n",
       "      <td>2012-06-29</td>\n",
       "      <td>ZIM</td>\n",
       "      <td>2.0</td>\n",
       "    </tr>\n",
       "  </tbody>\n",
       "</table>\n",
       "</div>"
      ],
      "text/plain": [
       "     Olympics Date Country  Number of Medals\n",
       "1101    2012-06-29     UKR              17.0\n",
       "1146    2012-06-29     USA              71.2\n",
       "1152    2012-06-29     UZB               3.5\n",
       "1164    2012-06-29     VIE               1.0\n",
       "1185    2012-06-29     ZIM               2.0"
      ]
     },
     "execution_count": 7,
     "metadata": {},
     "output_type": "execute_result"
    }
   ],
   "source": [
    "indexers = ['Olympics Date', 'Country']\n",
    "avg_num_medals = label_df\n",
    "\n",
    "def add_years(dt, num):\n",
    "    year = dt.year + num\n",
    "    return pd.Timestamp(year=year, month=dt.month, day=dt.day)\n",
    "\n",
    "# Find the minimum date for each and subtract 4 years\n",
    "prev_olympics = (avg_num_medals.groupby('Country')['Olympics Date']\n",
    "                               .min()\n",
    "                               .apply(lambda df: add_years(df, -4))\n",
    "                               .to_frame()\n",
    "                               .reset_index(drop=False))\n",
    "# Add these rows in and resort\n",
    "avg_num_medals = (avg_num_medals.append(prev_olympics, ignore_index=True)\n",
    "                                .sort_values(indexers))\n",
    "# Now add 4 years to the date so that when we take the expanding_mean(),\n",
    "# we leave out the number of medals won at the current olympics\n",
    "avg_num_medals['Olympics Date'] = avg_num_medals['Olympics Date'].apply(\n",
    "    lambda df: add_years(df, 4))\n",
    "\n",
    "avg_num_medals = avg_num_medals.set_index(indexers)\n",
    "mean_num_medals_over_time = (avg_num_medals.groupby(level='Country')\n",
    "                                           .expanding()\n",
    "                                           .mean()\n",
    "                                           .apply(lambda df: df.iloc[:-1])\n",
    "                                           .reset_index(drop=True, level=0)\n",
    "                                           .reset_index(drop=False, level=[0, 1])\n",
    "                                           .sort_values(indexers)\n",
    "                            )[indexers + ['Number of Medals']]\n",
    "mean_num_medals_over_time = mean_num_medals_over_time[\n",
    "    mean_num_medals_over_time['Olympics Date'] < pd.Timestamp('1/1/2016')]\n",
    "\n",
    "mean_num_medals_over_time.tail()"
   ]
  },
  {
   "cell_type": "markdown",
   "metadata": {},
   "source": [
    "### How well does this predictor do?"
   ]
  },
  {
   "cell_type": "code",
   "execution_count": 9,
   "metadata": {},
   "outputs": [
    {
     "data": {
      "text/plain": [
       "Code  time               \n",
       "AUS   1896-06-29 00:00:00     0.0\n",
       "AUT   1896-06-29 00:00:00     0.0\n",
       "DEN   1896-06-29 00:00:00     0.0\n",
       "FRA   1896-06-29 00:00:00     0.0\n",
       "GBR   1896-06-29 00:00:00     0.0\n",
       "GER   1896-06-29 00:00:00     0.0\n",
       "GRE   1896-06-29 00:00:00     0.0\n",
       "HUN   1896-06-29 00:00:00     0.0\n",
       "SUI   1896-06-29 00:00:00     0.0\n",
       "USA   1896-06-29 00:00:00     0.0\n",
       "ZZX   1896-06-29 00:00:00     0.0\n",
       "AUS   1900-06-29              2.0\n",
       "AUT   1900-06-29              5.0\n",
       "BEL   1900-06-29              7.4\n",
       "BOH   1900-06-29              7.4\n",
       "CAN   1900-06-29              7.4\n",
       "CUB   1900-06-29              7.4\n",
       "DEN   1900-06-29              6.0\n",
       "ESP   1900-06-29              7.4\n",
       "FRA   1900-06-29             11.0\n",
       "Name: mean_num_medals, dtype: float64"
      ]
     },
     "execution_count": 9,
     "metadata": {},
     "output_type": "execute_result"
    }
   ],
   "source": [
    "# Countries that didn't take part in the previous Olympics have default nan values in the dataframe\n",
    "# Set them to the mean number of medals for that year\n",
    "baseline1 = feature_matrix.copy()\n",
    "null_predictions = baseline1['mean_num_medals'].isnull()\n",
    "means = (baseline1.groupby(level='time')['mean_num_medals'].mean().to_frame())\n",
    "baseline1[null_predictions] = (baseline1[null_predictions].drop(['mean_num_medals'], axis=1).join(means))\n",
    "\n",
    "# Fill the 1896 olympics with 0 since we have no data to go off of\n",
    "baseline1.fillna(0, inplace=True)\n",
    "baseline1 = baseline1['mean_num_medals']\n",
    "baseline1.head(20)"
   ]
  },
  {
   "cell_type": "code",
   "execution_count": 10,
   "metadata": {
    "collapsed": true
   },
   "outputs": [],
   "source": [
    "y = label_df['Number of Medals'].values\n",
    "y_binary = (y >= 10).astype(int)\n",
    "binned_labels, bins = bin_labels(label_df['Number of Medals'], [2, 6, 10, 50])\n",
    "y_binned = binned_labels.values\n",
    "\n",
    "# Time-based cross-validation (for each Olympics starting in 1960, use all historical data in past)\n",
    "splitter = TimeSeriesSplitByDate(dates=label_df['Olympics Date'],\n",
    "                                 earliest_date=pd.Timestamp('1/1/1960'))"
   ]
  },
  {
   "cell_type": "code",
   "execution_count": 11,
   "metadata": {},
   "outputs": [
    {
     "name": "stdout",
     "output_type": "stream",
     "text": [
      "mean f1 score: 0.70 +/- 0.06\n",
      "mean mse score: 91.79 +/- 69.90\n",
      "mean f1_micro score: 0.48 +/- 0.07\n",
      "mean r2 score: 0.72 +/- 0.10\n",
      "mean roc_auc score: 0.79 +/- 0.04\n"
     ]
    }
   ],
   "source": [
    "predictions = baseline1\n",
    "scores_over_time = score_predictions(splitter,\n",
    "                                     predictions,\n",
    "                                     y,\n",
    "                                     y_binary,\n",
    "                                     y_binned)\n",
    "for scoring_func, scores in scores_over_time.items():\n",
    "    print \"mean %s score: %.2f +/- %.2f\" % (scoring_func,\n",
    "                                            np.mean(scores),\n",
    "                                            np.std(scores))"
   ]
  },
  {
   "cell_type": "code",
   "execution_count": 12,
   "metadata": {},
   "outputs": [
    {
     "data": {
      "text/plain": [
       "<matplotlib.axes._subplots.AxesSubplot at 0x111426bd0>"
      ]
     },
     "execution_count": 12,
     "metadata": {},
     "output_type": "execute_result"
    },
    {
     "data": {
      "image/png": "[encoded data removed]",
      "text/plain": [
       "<matplotlib.figure.Figure at 0x11104a2d0>"
      ]
     },
     "metadata": {},
     "output_type": "display_data"
    }
   ],
   "source": [
    "dates = splitter.dates.drop_duplicates()\n",
    "dates = dates[dates['Olympics Date'] >= pd.Timestamp('1/1/1960')][:-1]['Olympics Date']\n",
    "pd.Series(scores_over_time['f1_micro'], index=dates).plot()"
   ]
  },
  {
   "cell_type": "markdown",
   "metadata": {},
   "source": [
    "### Quick analysis\n",
    "\n",
    "Our AUC (a standard metric for binary classification, with 1.0 as a perfect score) is already very good. We get 0.79 with no machine learning at all. However, we can substantially improve this score (.94) with Feature Engineering, which we will see in the [Featuretools Predictive Modeling](FeaturetoolsPRedictiveModeling.ipynb) notebook.\n",
    "\n",
    "Our lowest interpretable score is the binned classifaction score: f1_micro, an f1 score averaged across each independent training example, also with a maximum of 1.0.\n",
    "(Sci-kit Learn has a good [explanation](http://scikit-learn.org/stable/modules/generated/sklearn.metrics.f1_score.html) of this metric)\n",
    "\n",
    "Since we have no good way of knowing what a good \"Mean Square Error\" is for the regression case of the problem, we'll refer back to the binned case for an example of the hardest version of this problem.\n",
    "\n",
    "Also, looking at the graph of scores over time, it seems our average gets better over time, albeit with large spikes for certain years. We can maybe attribute this to better averaging over time. The impact of international events on these scores is explored further in results section of the [other](FeaturetoolsPredictiveModeling.ipynb) notebook."
   ]
  },
  {
   "cell_type": "markdown",
   "metadata": {},
   "source": [
    "<p>\n",
    "    <img src=\"https://www.featurelabs.com/img/logo.png\" alt=\"Featuretools\" />\n",
    "</p>\n",
    "\n",
    "\n",
    "Featuretools was created by the developers at [Feature Labs](https://www.featurelabs.com/). If building impactful data science pipelines is important to you or your business, please [get in touch](https://www.featurelabs.com/contact.html)."
   ]
  }
 ],
 "metadata": {
  "kernelspec": {
   "display_name": "Python 2",
   "language": "python",
   "name": "python2"
  },
  "language_info": {
   "codemirror_mode": {
    "name": "ipython",
    "version": 2
   },
   "file_extension": ".py",
   "mimetype": "text/x-python",
   "name": "python",
   "nbconvert_exporter": "python",
   "pygments_lexer": "ipython2",
   "version": "2.7.13"
  }
 },
 "nbformat": 4,
 "nbformat_minor": 2
}
